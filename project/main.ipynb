{
 "cells": [
  {
   "cell_type": "code",
   "execution_count": 36,
   "metadata": {},
   "outputs": [],
   "source": [
    "from random import randint\n",
    "from unidecode import unidecode\n",
    "from playwright.async_api import async_playwright, TimeoutError as PlaywrightTimeoutError"
   ]
  },
  {
   "cell_type": "code",
   "execution_count": 44,
   "metadata": {},
   "outputs": [],
   "source": [
    "SONG_URLS = [f'https://maistocadas.mus.br/{year}' for year in range(2010, 2011)]\n",
    "SONGS_DIR = 'songs/'\n",
    "LYRICS_URL = 'https://lyricstranslate.com/'\n",
    "\n",
    "def get_random_geolocation():\n",
    "    return {'latitude': randint(-90,90), 'longitude':randint(-180,180)}\n",
    "\n",
    "def get_random_viewport():\n",
    "    return {'width': randint(800, 1920), 'height': randint(600, 1080)}"
   ]
  },
  {
   "cell_type": "code",
   "execution_count": 45,
   "metadata": {},
   "outputs": [],
   "source": [
    "songs_with_no_lyrics = []\n",
    "\n",
    "async with async_playwright() as playwright:\n",
    "    browser = browser = await playwright.chromium.launch(headless = False)\n",
    "    for url in SONG_URLS:\n",
    "        song_page = await browser.new_page(viewport=get_random_viewport(), geolocation=get_random_geolocation())\n",
    "        await song_page.goto(url)\n",
    "        track_list = await song_page.locator('#tracklist').locator('li').all()\n",
    "        for track_card in track_list:\n",
    "            lyrics_page = await browser.new_page(viewport=get_random_viewport(), geolocation=get_random_geolocation())\n",
    "            await lyrics_page.goto(LYRICS_URL)\n",
    "            song_title = str(await track_card.locator('span.musicas').text_content()).strip()\n",
    "            artist = str(await track_card.locator('span.artista').text_content()).strip()\n",
    "            await lyrics_page.locator('#google-cse-searchbox-input').fill(song_title + ' ' + artist)\n",
    "            await lyrics_page.locator(\":nth-match(button:text('Search'), 1)\").click()\n",
    "            lyrics_page.set_default_timeout(1000)\n",
    "            song_language = None\n",
    "            try:\n",
    "                song_language = await lyrics_page.get_by_role(\"row\", name=f'{artist} - {song_title}').get_by_role(\"cell\").nth(0).text_content()\n",
    "            except PlaywrightTimeoutError:\n",
    "                songs_with_no_lyrics.append((song_title, artist))\n",
    "            if song_language != 'Portuguese':\n",
    "                await lyrics_page.close()\n",
    "                continue\n",
    "            try:\n",
    "                await lyrics_page.get_by_role(\"row\", name=f'{artist} - {song_title}').nth(0).click()\n",
    "            except PlaywrightTimeoutError:\n",
    "                print(song_title, artist)\n",
    "        # title_and_artist_list = [f'\"{str(await track_card.locator('span.musicas').text_content()).strip()}\",\"{str(await track_card.locator('span.artista').text_content()).strip()}\"\\n'\n",
    "        #                           for track_card in track_list]\n",
    "        # await song_page.close()\n",
    "        # with open(SONGS_DIR+url.split('/')[-1]+'.csv', 'w') as f:\n",
    "        #     f.write('title,artist\\n')\n",
    "        #     f.writelines(title_and_artist_list)"
   ]
  },
  {
   "cell_type": "code",
   "execution_count": 50,
   "metadata": {},
   "outputs": [
    {
     "ename": "TargetClosedError",
     "evalue": "Target page, context or browser has been closed",
     "output_type": "error",
     "traceback": [
      "\u001b[0;31m---------------------------------------------------------------------------\u001b[0m",
      "\u001b[0;31mTargetClosedError\u001b[0m                         Traceback (most recent call last)",
      "Cell \u001b[0;32mIn[50], line 7\u001b[0m\n\u001b[1;32m      5\u001b[0m \u001b[38;5;28;01mawait\u001b[39;00m lyrics_page\u001b[38;5;241m.\u001b[39mlocator(\u001b[38;5;124m'\u001b[39m\u001b[38;5;124m#google-cse-searchbox-input\u001b[39m\u001b[38;5;124m'\u001b[39m)\u001b[38;5;241m.\u001b[39mfill(\u001b[38;5;124m'\u001b[39m\u001b[38;5;124mNeed You Now Lady Antebellum\u001b[39m\u001b[38;5;124m'\u001b[39m)\n\u001b[1;32m      6\u001b[0m \u001b[38;5;28;01mawait\u001b[39;00m lyrics_page\u001b[38;5;241m.\u001b[39mlocator(\u001b[38;5;124m\"\u001b[39m\u001b[38;5;124m:nth-match(button:text(\u001b[39m\u001b[38;5;124m'\u001b[39m\u001b[38;5;124mSearch\u001b[39m\u001b[38;5;124m'\u001b[39m\u001b[38;5;124m), 1)\u001b[39m\u001b[38;5;124m\"\u001b[39m)\u001b[38;5;241m.\u001b[39mclick()\n\u001b[0;32m----> 7\u001b[0m song_language \u001b[38;5;241m=\u001b[39m \u001b[38;5;28;01mawait\u001b[39;00m lyrics_page\u001b[38;5;241m.\u001b[39mget_by_role(\u001b[38;5;124m\"\u001b[39m\u001b[38;5;124mrow\u001b[39m\u001b[38;5;124m\"\u001b[39m, name\u001b[38;5;241m=\u001b[39m\u001b[38;5;124mf\u001b[39m\u001b[38;5;124m'\u001b[39m\u001b[38;5;132;01m{\u001b[39;00martist\u001b[38;5;132;01m}\u001b[39;00m\u001b[38;5;124m - \u001b[39m\u001b[38;5;132;01m{\u001b[39;00msong_title\u001b[38;5;132;01m}\u001b[39;00m\u001b[38;5;124m'\u001b[39m)\u001b[38;5;241m.\u001b[39mget_by_role(\u001b[38;5;124m\"\u001b[39m\u001b[38;5;124mcell\u001b[39m\u001b[38;5;124m\"\u001b[39m)\u001b[38;5;241m.\u001b[39mnth(\u001b[38;5;241m0\u001b[39m)\u001b[38;5;241m.\u001b[39mtext_content()\n\u001b[1;32m      8\u001b[0m \u001b[38;5;28mprint\u001b[39m(song_language)\n",
      "File \u001b[0;32m~/miniforge3/envs/txmm/lib/python3.10/site-packages/playwright/async_api/_generated.py:16762\u001b[0m, in \u001b[0;36mLocator.text_content\u001b[0;34m(self, timeout)\u001b[0m\n\u001b[1;32m  16740\u001b[0m \u001b[38;5;28;01masync\u001b[39;00m \u001b[38;5;28;01mdef\u001b[39;00m \u001b[38;5;21mtext_content\u001b[39m(\n\u001b[1;32m  16741\u001b[0m     \u001b[38;5;28mself\u001b[39m, \u001b[38;5;241m*\u001b[39m, timeout: typing\u001b[38;5;241m.\u001b[39mOptional[\u001b[38;5;28mfloat\u001b[39m] \u001b[38;5;241m=\u001b[39m \u001b[38;5;28;01mNone\u001b[39;00m\n\u001b[1;32m  16742\u001b[0m ) \u001b[38;5;241m-\u001b[39m\u001b[38;5;241m>\u001b[39m typing\u001b[38;5;241m.\u001b[39mOptional[\u001b[38;5;28mstr\u001b[39m]:\n\u001b[1;32m  16743\u001b[0m \u001b[38;5;250m    \u001b[39m\u001b[38;5;124;03m\"\"\"Locator.text_content\u001b[39;00m\n\u001b[1;32m  16744\u001b[0m \n\u001b[1;32m  16745\u001b[0m \u001b[38;5;124;03m    Returns the [`node.textContent`](https://developer.mozilla.org/en-US/docs/Web/API/Node/textContent).\u001b[39;00m\n\u001b[0;32m   (...)\u001b[0m\n\u001b[1;32m  16758\u001b[0m \u001b[38;5;124;03m    Union[str, None]\u001b[39;00m\n\u001b[1;32m  16759\u001b[0m \u001b[38;5;124;03m    \"\"\"\u001b[39;00m\n\u001b[1;32m  16761\u001b[0m     \u001b[38;5;28;01mreturn\u001b[39;00m mapping\u001b[38;5;241m.\u001b[39mfrom_maybe_impl(\n\u001b[0;32m> 16762\u001b[0m         \u001b[38;5;28;01mawait\u001b[39;00m \u001b[38;5;28mself\u001b[39m\u001b[38;5;241m.\u001b[39m_impl_obj\u001b[38;5;241m.\u001b[39mtext_content(timeout\u001b[38;5;241m=\u001b[39mtimeout)\n\u001b[1;32m  16763\u001b[0m     )\n",
      "File \u001b[0;32m~/miniforge3/envs/txmm/lib/python3.10/site-packages/playwright/_impl/_locator.py:600\u001b[0m, in \u001b[0;36mLocator.text_content\u001b[0;34m(self, timeout)\u001b[0m\n\u001b[1;32m    598\u001b[0m \u001b[38;5;28;01masync\u001b[39;00m \u001b[38;5;28;01mdef\u001b[39;00m \u001b[38;5;21mtext_content\u001b[39m(\u001b[38;5;28mself\u001b[39m, timeout: \u001b[38;5;28mfloat\u001b[39m \u001b[38;5;241m=\u001b[39m \u001b[38;5;28;01mNone\u001b[39;00m) \u001b[38;5;241m-\u001b[39m\u001b[38;5;241m>\u001b[39m Optional[\u001b[38;5;28mstr\u001b[39m]:\n\u001b[1;32m    599\u001b[0m     params \u001b[38;5;241m=\u001b[39m locals_to_params(\u001b[38;5;28mlocals\u001b[39m())\n\u001b[0;32m--> 600\u001b[0m     \u001b[38;5;28;01mreturn\u001b[39;00m \u001b[38;5;28;01mawait\u001b[39;00m \u001b[38;5;28mself\u001b[39m\u001b[38;5;241m.\u001b[39m_frame\u001b[38;5;241m.\u001b[39mtext_content(\n\u001b[1;32m    601\u001b[0m         \u001b[38;5;28mself\u001b[39m\u001b[38;5;241m.\u001b[39m_selector,\n\u001b[1;32m    602\u001b[0m         strict\u001b[38;5;241m=\u001b[39m\u001b[38;5;28;01mTrue\u001b[39;00m,\n\u001b[1;32m    603\u001b[0m         \u001b[38;5;241m*\u001b[39m\u001b[38;5;241m*\u001b[39mparams,\n\u001b[1;32m    604\u001b[0m     )\n",
      "File \u001b[0;32m~/miniforge3/envs/txmm/lib/python3.10/site-packages/playwright/_impl/_frame.py:613\u001b[0m, in \u001b[0;36mFrame.text_content\u001b[0;34m(self, selector, strict, timeout)\u001b[0m\n\u001b[1;32m    610\u001b[0m \u001b[38;5;28;01masync\u001b[39;00m \u001b[38;5;28;01mdef\u001b[39;00m \u001b[38;5;21mtext_content\u001b[39m(\n\u001b[1;32m    611\u001b[0m     \u001b[38;5;28mself\u001b[39m, selector: \u001b[38;5;28mstr\u001b[39m, strict: \u001b[38;5;28mbool\u001b[39m \u001b[38;5;241m=\u001b[39m \u001b[38;5;28;01mNone\u001b[39;00m, timeout: \u001b[38;5;28mfloat\u001b[39m \u001b[38;5;241m=\u001b[39m \u001b[38;5;28;01mNone\u001b[39;00m\n\u001b[1;32m    612\u001b[0m ) \u001b[38;5;241m-\u001b[39m\u001b[38;5;241m>\u001b[39m Optional[\u001b[38;5;28mstr\u001b[39m]:\n\u001b[0;32m--> 613\u001b[0m     \u001b[38;5;28;01mreturn\u001b[39;00m \u001b[38;5;28;01mawait\u001b[39;00m \u001b[38;5;28mself\u001b[39m\u001b[38;5;241m.\u001b[39m_channel\u001b[38;5;241m.\u001b[39msend(\u001b[38;5;124m\"\u001b[39m\u001b[38;5;124mtextContent\u001b[39m\u001b[38;5;124m\"\u001b[39m, locals_to_params(\u001b[38;5;28mlocals\u001b[39m()))\n",
      "File \u001b[0;32m~/miniforge3/envs/txmm/lib/python3.10/site-packages/playwright/_impl/_connection.py:59\u001b[0m, in \u001b[0;36mChannel.send\u001b[0;34m(self, method, params)\u001b[0m\n\u001b[1;32m     58\u001b[0m \u001b[38;5;28;01masync\u001b[39;00m \u001b[38;5;28;01mdef\u001b[39;00m \u001b[38;5;21msend\u001b[39m(\u001b[38;5;28mself\u001b[39m, method: \u001b[38;5;28mstr\u001b[39m, params: Dict \u001b[38;5;241m=\u001b[39m \u001b[38;5;28;01mNone\u001b[39;00m) \u001b[38;5;241m-\u001b[39m\u001b[38;5;241m>\u001b[39m Any:\n\u001b[0;32m---> 59\u001b[0m     \u001b[38;5;28;01mreturn\u001b[39;00m \u001b[38;5;28;01mawait\u001b[39;00m \u001b[38;5;28mself\u001b[39m\u001b[38;5;241m.\u001b[39m_connection\u001b[38;5;241m.\u001b[39mwrap_api_call(\n\u001b[1;32m     60\u001b[0m         \u001b[38;5;28;01mlambda\u001b[39;00m: \u001b[38;5;28mself\u001b[39m\u001b[38;5;241m.\u001b[39minner_send(method, params, \u001b[38;5;28;01mFalse\u001b[39;00m)\n\u001b[1;32m     61\u001b[0m     )\n",
      "File \u001b[0;32m~/miniforge3/envs/txmm/lib/python3.10/site-packages/playwright/_impl/_connection.py:509\u001b[0m, in \u001b[0;36mConnection.wrap_api_call\u001b[0;34m(self, cb, is_internal)\u001b[0m\n\u001b[1;32m    507\u001b[0m \u001b[38;5;28mself\u001b[39m\u001b[38;5;241m.\u001b[39m_api_zone\u001b[38;5;241m.\u001b[39mset(_extract_stack_trace_information_from_stack(st, is_internal))\n\u001b[1;32m    508\u001b[0m \u001b[38;5;28;01mtry\u001b[39;00m:\n\u001b[0;32m--> 509\u001b[0m     \u001b[38;5;28;01mreturn\u001b[39;00m \u001b[38;5;28;01mawait\u001b[39;00m cb()\n\u001b[1;32m    510\u001b[0m \u001b[38;5;28;01mfinally\u001b[39;00m:\n\u001b[1;32m    511\u001b[0m     \u001b[38;5;28mself\u001b[39m\u001b[38;5;241m.\u001b[39m_api_zone\u001b[38;5;241m.\u001b[39mset(\u001b[38;5;28;01mNone\u001b[39;00m)\n",
      "File \u001b[0;32m~/miniforge3/envs/txmm/lib/python3.10/site-packages/playwright/_impl/_connection.py:97\u001b[0m, in \u001b[0;36mChannel.inner_send\u001b[0;34m(self, method, params, return_as_dict)\u001b[0m\n\u001b[1;32m     95\u001b[0m \u001b[38;5;28;01mif\u001b[39;00m \u001b[38;5;129;01mnot\u001b[39;00m callback\u001b[38;5;241m.\u001b[39mfuture\u001b[38;5;241m.\u001b[39mdone():\n\u001b[1;32m     96\u001b[0m     callback\u001b[38;5;241m.\u001b[39mfuture\u001b[38;5;241m.\u001b[39mcancel()\n\u001b[0;32m---> 97\u001b[0m result \u001b[38;5;241m=\u001b[39m \u001b[38;5;28;43mnext\u001b[39;49m\u001b[43m(\u001b[49m\u001b[38;5;28;43miter\u001b[39;49m\u001b[43m(\u001b[49m\u001b[43mdone\u001b[49m\u001b[43m)\u001b[49m\u001b[43m)\u001b[49m\u001b[38;5;241;43m.\u001b[39;49m\u001b[43mresult\u001b[49m\u001b[43m(\u001b[49m\u001b[43m)\u001b[49m\n\u001b[1;32m     98\u001b[0m \u001b[38;5;66;03m# Protocol now has named return values, assume result is one level deeper unless\u001b[39;00m\n\u001b[1;32m     99\u001b[0m \u001b[38;5;66;03m# there is explicit ambiguity.\u001b[39;00m\n\u001b[1;32m    100\u001b[0m \u001b[38;5;28;01mif\u001b[39;00m \u001b[38;5;129;01mnot\u001b[39;00m result:\n",
      "\u001b[0;31mTargetClosedError\u001b[0m: Target page, context or browser has been closed"
     ]
    }
   ],
   "source": [
    "async with async_playwright() as playwright:\n",
    "    browser = browser = await playwright.chromium.launch(headless = False)\n",
    "    lyrics_page = await browser.new_page(viewport=get_random_viewport(), geolocation=get_random_geolocation())\n",
    "    await lyrics_page.goto(LYRICS_URL)\n",
    "    await lyrics_page.locator('#google-cse-searchbox-input').fill('Need You Now Lady Antebellum')\n",
    "    await lyrics_page.locator(\":nth-match(button:text('Search'), 1)\").click()\n",
    "    song_language = await lyrics_page.get_by_role(\"row\", name=f'{artist} - {song_title}').get_by_role(\"cell\").nth(0).text_content()\n",
    "    print(song_language)"
   ]
  },
  {
   "cell_type": "code",
   "execution_count": 47,
   "metadata": {},
   "outputs": [
    {
     "data": {
      "text/plain": [
       "[('I Want Know What Love Is', 'Mariah Carey'),\n",
       " ('Stereo Love', 'Edward Maya & Vika Jigulina'),\n",
       " ('Empire State Of Mind', 'Jay Z ft Alicia Keys'),\n",
       " ('TiK ToK', 'Ke$ha'),\n",
       " ('Baby', 'Justin Bieber ft. Ludacris'),\n",
       " ('Need You Now', 'Lady Antebellum'),\n",
       " ('Tapa na Cara', 'Zezé Di Camargo & Luciano'),\n",
       " ('Tá vendo aquela Lua', 'Exaltasamba'),\n",
       " ('Madri', 'Fernando & Sorocaba'),\n",
       " ('Imma Be', 'The Black Eyed Peas'),\n",
       " ('Estrela cadente', 'Victor e Leo'),\n",
       " ('Voa Beija Flor', 'Jorge & Mateus'),\n",
       " ('Love The Way You Lie', 'Eminem ft. Rihanna'),\n",
       " ('Só os loucos sabem', 'Charlie brown Jr'),\n",
       " ('Hard', 'Rihanna  ft. Jeezy'),\n",
       " ('Pode Ir Embora', 'Bruno e Marrone'),\n",
       " ('Telephone', 'Lady Gaga ft. Beyoncé'),\n",
       " ('Como eu queria te amar', 'Edson'),\n",
       " ('Espero A Minha Vez', 'NXZero'),\n",
       " ('Doesn’t Mean Anything', 'Alicia Keys'),\n",
       " ('Noites De Um Verão Qualquer', 'Skank'),\n",
       " ('Ao Vivo e em Cores', 'Victor e Léo'),\n",
       " ('Sexy Chick', 'David Guetta Feat. Akon'),\n",
       " ('Rebolation', 'Parangolé'),\n",
       " ('We No Speak Americano', 'Yolanda Be Cool & DCUP'),\n",
       " ('Crawl', 'Chris Brown (ft. Cassie)'),\n",
       " ('Rock That Body', 'The Black Eyed Peas'),\n",
       " ('Sinônimo de amor', 'Bruno & Marrone'),\n",
       " ('Down', 'Jay Sean ft. Lil Wayne'),\n",
       " ('Sou Fã', 'Christian & Cristiano'),\n",
       " ('Meet Me Halfway', 'The Black Eyed Peas'),\n",
       " ('Passos escuros', 'HEVO84'),\n",
       " ('Nothin’ On You', 'B.o.B (feat. Bruno Mars)'),\n",
       " ('Sem Me Controlar', 'Marcos & Belutti'),\n",
       " ('Flor do meu sertão', 'Leonardo'),\n",
       " ('Estrela', 'Hugo Pena & Gabriel'),\n",
       " ('Minha vida é você', 'Hevo 84'),\n",
       " ('Uma Canção pra Você', 'Edson'),\n",
       " ('Never Say Never', 'Justin Bieber ft. Jaden Smith'),\n",
       " ('Linda, Tão Linda', 'Hori'),\n",
       " ('The Time (Dirty Bit)', 'The Black Eyed Peas'),\n",
       " ('Sonhando', 'Bruno & Marrone'),\n",
       " ('Labirinto', 'César Menotti & Fabiano'),\n",
       " ('Club Can’t Handle Me', 'Flo Rida ft. David Guetta'),\n",
       " ('Far eats Movement feat The Cataracs & Dev', 'Like a g6'),\n",
       " ('Loca', 'Shakira ft. El Cata'),\n",
       " ('Não Valeu Pra você', 'Eduardo Costa'),\n",
       " ('O que você sempre quis', 'Stevens'),\n",
       " ('Amores Imortais', 'Eduardo Costa'),\n",
       " ('Acelera Aê (Noite do Bem)', 'Ivete Sangalo'),\n",
       " ('Take It Off', 'Ke$ha'),\n",
       " ('OMG', 'Usher feat. Will.I.Am'),\n",
       " ('Conselho', 'Marcelo Mira & Marcelo D2'),\n",
       " ('Tao Linda e Tão Louca', 'Zezé Di Camargo e Luciano'),\n",
       " ('Waving Flag', 'Skank Feat K’naan'),\n",
       " ('Getting Over', 'David Guetta & Chris Willis Feat Fergie & LMFAO'),\n",
       " ('O Que Combina Comigo É Você',\n",
       "  'Zé Henrique & Gabriel (Part. Paula Fernandes)'),\n",
       " ('E Agora Nós?', 'Sorriso Maroto e Ivete Sangalo'),\n",
       " ('Só nós dois', 'Detonautas Roque Clube'),\n",
       " ('DJ Got Us Fallin’ In Love', 'Usher ft. Pitbull'),\n",
       " ('Break Your Heart ft. Ludacris', 'Taio Cruz')]"
      ]
     },
     "execution_count": 47,
     "metadata": {},
     "output_type": "execute_result"
    }
   ],
   "source": [
    "songs_with_no_lyrics"
   ]
  },
  {
   "cell_type": "code",
   "execution_count": null,
   "metadata": {},
   "outputs": [],
   "source": []
  }
 ],
 "metadata": {
  "kernelspec": {
   "display_name": "txmm",
   "language": "python",
   "name": "python3"
  },
  "language_info": {
   "codemirror_mode": {
    "name": "ipython",
    "version": 3
   },
   "file_extension": ".py",
   "mimetype": "text/x-python",
   "name": "python",
   "nbconvert_exporter": "python",
   "pygments_lexer": "ipython3",
   "version": "3.10.14"
  }
 },
 "nbformat": 4,
 "nbformat_minor": 2
}
