{
 "cells": [
  {
   "cell_type": "code",
   "execution_count": 5,
   "metadata": {},
   "outputs": [],
   "source": [
    "from random import randint\n",
    "from playwright.async_api import async_playwright"
   ]
  },
  {
   "cell_type": "code",
   "execution_count": 6,
   "metadata": {},
   "outputs": [],
   "source": [
    "SONG_URLS = [f'https://maistocadas.mus.br/{year}' for year in range(1958, 2024)]\n",
    "SONGS_DIR = 'songs/'\n",
    "\n",
    "def get_random_geolocation():\n",
    "    return {'latitude': randint(-90,90), 'longitude':randint(-180,180)}\n",
    "\n",
    "def get_random_viewport():\n",
    "    return {'width': randint(800, 1920), 'height': randint(600, 1080)}"
   ]
  },
  {
   "cell_type": "code",
   "execution_count": 8,
   "metadata": {},
   "outputs": [],
   "source": [
    "async with async_playwright() as playwright:\n",
    "    browser = browser = await playwright.chromium.launch(headless = False)\n",
    "    for url in SONG_URLS:\n",
    "        page = await browser.new_page(viewport=get_random_viewport(), geolocation=get_random_geolocation())\n",
    "        await page.goto(url)\n",
    "        track_list = await page.locator('#tracklist').locator('li').all()\n",
    "        title_and_artist_list = [f'\"{str(await track_card.locator('span.musicas').text_content()).strip()}\",\"{str(await track_card.locator('span.artista').text_content()).strip()}\"\\n'\n",
    "                                  for track_card in track_list]\n",
    "        await page.close()\n",
    "        with open(SONGS_DIR+url.split('/')[-1]+'.csv', 'w') as f:\n",
    "            f.write('title,artist\\n')\n",
    "            f.writelines(title_and_artist_list)"
   ]
  }
 ],
 "metadata": {
  "kernelspec": {
   "display_name": "txmm",
   "language": "python",
   "name": "python3"
  },
  "language_info": {
   "codemirror_mode": {
    "name": "ipython",
    "version": 3
   },
   "file_extension": ".py",
   "mimetype": "text/x-python",
   "name": "python",
   "nbconvert_exporter": "python",
   "pygments_lexer": "ipython3",
   "version": "3.12.5"
  }
 },
 "nbformat": 4,
 "nbformat_minor": 2
}
